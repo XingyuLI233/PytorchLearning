{
 "cells": [
  {
   "cell_type": "code",
   "execution_count": 7,
   "metadata": {},
   "outputs": [
    {
     "name": "stdout",
     "output_type": "stream",
     "text": [
      "env: LS_COLORS=None\n"
     ]
    }
   ],
   "source": [
    "%env LS_COLORS = None "
   ]
  },
  {
   "cell_type": "code",
   "execution_count": 12,
   "metadata": {},
   "outputs": [],
   "source": [
    "import torch as t\n",
    "from torch.utils import data\n",
    "import numpy as np\n",
    "import os\n",
    "from PIL import  Image"
   ]
  },
  {
   "cell_type": "code",
   "execution_count": 13,
   "metadata": {},
   "outputs": [],
   "source": [
    "class DogCatone(data.Dataset):\n",
    "    def __init__(self, root):\n",
    "        imgs = os.listdir(root)\n",
    "        # 所有图片的绝对路径\n",
    "        # 这里不实际加载图片，只是指定路径\n",
    "        #当调用__getitem__时才会真正读图片\n",
    "        self.imgs = [os.path.join(root, img) for img in imgs]\n",
    "        \n",
    "    def __getitem__(self, index):\n",
    "        img_path = self.imgs[index]\n",
    "        # dog->1， cat->0\n",
    "        label = 1 if 'dog' in img_path.split('/')[-1] else 0\n",
    "        pil_img = Image.open(img_path)\n",
    "        array = np.asarray(pil_img)\n",
    "        data = t.from_numpy(array)\n",
    "        return data, label\n",
    "    \n",
    "    def __len__(self):\n",
    "        return len(self.imgs)"
   ]
  },
  {
   "cell_type": "code",
   "execution_count": 14,
   "metadata": {},
   "outputs": [],
   "source": [
    "dataset = DogCatone('./data/dogcat')"
   ]
  },
  {
   "cell_type": "code",
   "execution_count": 18,
   "metadata": {},
   "outputs": [
    {
     "name": "stdout",
     "output_type": "stream",
     "text": [
      "torch.Size([500, 497, 3]) tensor(106.4917) 1\n",
      "torch.Size([499, 379, 3]) tensor(171.8088) 1\n",
      "torch.Size([236, 289, 3]) tensor(130.3022) 1\n",
      "torch.Size([374, 499, 3]) tensor(115.5157) 1\n",
      "torch.Size([375, 499, 3]) tensor(116.8187) 1\n",
      "torch.Size([375, 499, 3]) tensor(150.5086) 1\n",
      "torch.Size([377, 499, 3]) tensor(151.7141) 1\n",
      "torch.Size([400, 300, 3]) tensor(128.1548) 1\n"
     ]
    }
   ],
   "source": [
    "img,label = dataset[0]\n",
    "for img, label in dataset:\n",
    "    print(img.size(), img.float().mean(), label)"
   ]
  },
  {
   "cell_type": "code",
   "execution_count": 1,
   "metadata": {},
   "outputs": [
    {
     "name": "stdout",
     "output_type": "stream",
     "text": [
      "文件夹 PATH 列表\n",
      "卷序列号为 DA18-EBFA\n",
      "E:\\PYTORCHLEARNING\\DATA\n",
      "├─dogcat\n",
      "├─dogcat_2\n",
      "│  ├─cat\n",
      "│  └─dog\n",
      "├─dogcat_wrong\n",
      "└─MNIST\n",
      "    ├─processed\n",
      "    └─raw\n"
     ]
    }
   ],
   "source": [
    "!tree data"
   ]
  },
  {
   "cell_type": "code",
   "execution_count": null,
   "metadata": {},
   "outputs": [],
   "source": []
  }
 ],
 "metadata": {
  "kernelspec": {
   "display_name": "Pytorch for Deeplearning",
   "language": "python",
   "name": "pytorch"
  },
  "language_info": {
   "codemirror_mode": {
    "name": "ipython",
    "version": 3
   },
   "file_extension": ".py",
   "mimetype": "text/x-python",
   "name": "python",
   "nbconvert_exporter": "python",
   "pygments_lexer": "ipython3",
   "version": "3.6.8"
  }
 },
 "nbformat": 4,
 "nbformat_minor": 2
}
