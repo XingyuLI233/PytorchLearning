{
 "cells": [
  {
   "cell_type": "code",
   "execution_count": 2,
   "metadata": {},
   "outputs": [],
   "source": [
    "import torch as t"
   ]
  },
  {
   "cell_type": "code",
   "execution_count": 3,
   "metadata": {},
   "outputs": [
    {
     "data": {
      "text/plain": [
       "<torch._C.Generator at 0x24824dec810>"
      ]
     },
     "execution_count": 3,
     "metadata": {},
     "output_type": "execute_result"
    }
   ],
   "source": [
    "import torch.utils.data as Data\n",
    "t.manual_seed(1) #为CPU设置种子用于生成随机数，以使得结果是确定的 "
   ]
  },
  {
   "cell_type": "code",
   "execution_count": 4,
   "metadata": {},
   "outputs": [],
   "source": [
    "BATCH_SIZE = 5"
   ]
  },
  {
   "cell_type": "code",
   "execution_count": 13,
   "metadata": {},
   "outputs": [
    {
     "data": {
      "text/plain": [
       "(tensor([ 1.,  2.,  3.,  4.,  5.,  6.,  7.,  8.,  9., 10.]),\n",
       " tensor([10.,  9.,  8.,  7.,  6.,  5.,  4.,  3.,  2.,  1.]))"
      ]
     },
     "execution_count": 13,
     "metadata": {},
     "output_type": "execute_result"
    }
   ],
   "source": [
    "x = t.linspace(1,10,10)\n",
    "y = t.linspace(10,1,10)\n",
    "x,y"
   ]
  },
  {
   "cell_type": "code",
   "execution_count": 9,
   "metadata": {},
   "outputs": [],
   "source": [
    "torch_dataset = Data.TensorDataset(x, y)"
   ]
  },
  {
   "cell_type": "code",
   "execution_count": 10,
   "metadata": {},
   "outputs": [],
   "source": [
    "# 把 dataset 放入 DataLoader\n",
    "loader = Data.DataLoader(\n",
    "    dataset=torch_dataset,      # torch TensorDataset format\n",
    "    batch_size=BATCH_SIZE,      # mini batch size\n",
    "    shuffle=True,               # 要不要打乱数据 (打乱比较好)\n",
    "    num_workers=2,              # 多线程来读数据\n",
    ")"
   ]
  },
  {
   "cell_type": "code",
   "execution_count": 11,
   "metadata": {},
   "outputs": [
    {
     "name": "stdout",
     "output_type": "stream",
     "text": [
      "Epoch: 0 |step: 0 |batch x: [ 5.  7. 10.  3.  4.] |batch y :  [6. 4. 1. 8. 7.]\n",
      "Epoch: 0 |step: 1 |batch x: [2. 1. 8. 9. 6.] |batch y :  [ 9. 10.  3.  2.  5.]\n",
      "Epoch: 1 |step: 0 |batch x: [ 4.  6.  7. 10.  8.] |batch y :  [7. 5. 4. 1. 3.]\n",
      "Epoch: 1 |step: 1 |batch x: [5. 3. 2. 1. 9.] |batch y :  [ 6.  8.  9. 10.  2.]\n",
      "Epoch: 2 |step: 0 |batch x: [ 4.  2.  5.  6. 10.] |batch y :  [7. 9. 6. 5. 1.]\n",
      "Epoch: 2 |step: 1 |batch x: [3. 9. 1. 8. 7.] |batch y :  [ 8.  2. 10.  3.  4.]\n"
     ]
    }
   ],
   "source": [
    "for epoch in range(3):\n",
    "    for step,(batch_x,batch_y) in enumerate(loader):\n",
    "        print(\"Epoch:\",epoch,\"|step:\",step,\"|batch x:\",batch_x.numpy(),\n",
    "             \"|batch y : \",batch_y.numpy())"
   ]
  },
  {
   "cell_type": "code",
   "execution_count": null,
   "metadata": {},
   "outputs": [],
   "source": []
  }
 ],
 "metadata": {
  "kernelspec": {
   "display_name": "Pytorch for Deeplearning",
   "language": "python",
   "name": "pytorch"
  },
  "language_info": {
   "codemirror_mode": {
    "name": "ipython",
    "version": 3
   },
   "file_extension": ".py",
   "mimetype": "text/x-python",
   "name": "python",
   "nbconvert_exporter": "python",
   "pygments_lexer": "ipython3",
   "version": "3.6.8"
  }
 },
 "nbformat": 4,
 "nbformat_minor": 2
}
